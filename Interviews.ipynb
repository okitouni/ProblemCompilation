{
 "cells": [
  {
   "cell_type": "code",
   "execution_count": 20,
   "metadata": {},
   "outputs": [],
   "source": [
    "M = [[1, 0, 3],\n",
    "    [4, -5, 6],\n",
    "    [-7, 0, -9]]"
   ]
  },
  {
   "cell_type": "code",
   "execution_count": 21,
   "metadata": {},
   "outputs": [
    {
     "data": {
      "text/plain": [
       "1080"
      ]
     },
     "execution_count": 21,
     "metadata": {},
     "output_type": "execute_result"
    }
   ],
   "source": [
    "def product_matrix(M):\n",
    "\tnrows = len(M)\n",
    "\tncols = len(M[0])\n",
    "\tDistMat = [[1] * ncols for _ in range(nrows)]\n",
    "\tDistMat[0][0] = (M[0][0], )*2\n",
    "\tfor i in range(1, ncols):\n",
    "\t\tDistMat[0][i] = (DistMat[0][i-1][0] * M[0][i],)*2\n",
    "\tfor i in range(1, nrows):\n",
    "\t\tDistMat[i][0] = (DistMat[i-1][0][0] * M[i][0],)*2\n",
    "\n",
    "\tfor i in range(1, nrows):\n",
    "\t\tfor j in range(1, ncols):\n",
    "\t\t\tmin_ = min(DistMat[i][j-1][1], DistMat[i-1][ j][1])\n",
    "\t\t\tmax_ = max(DistMat[i][j-1][0], DistMat[i-1][ j][0])\n",
    "\t\t\tDistMat[i][j] = (M[i][j] * max_, M[i][j] * min_)\n",
    "\t\t\tif M[i][j] < 0:\n",
    "\t\t\t\t\tDistMat[i][j] = (M[i][j] * min_, M[i][j] * max_) \n",
    "\n",
    "\treturn DistMat[nrows-1][ncols-1][0]\n",
    "product_matrix(M)"
   ]
  },
  {
   "cell_type": "code",
   "execution_count": 27,
   "metadata": {},
   "outputs": [
    {
     "name": "stdout",
     "output_type": "stream",
     "text": [
      "5\n",
      "4\n",
      "3\n",
      "2\n",
      "1\n",
      "0\n"
     ]
    },
    {
     "data": {
      "text/plain": [
       "[1, 2, 3, 4, 5, 6]"
      ]
     },
     "execution_count": 27,
     "metadata": {},
     "output_type": "execute_result"
    }
   ],
   "source": [
    "A = [1, 3, 5, 0, 0 , 0]\n",
    "B = [2, 4, 6]\n",
    "\n",
    "def merge(A, B):\n",
    "    # assume A is padded with 0s at the end\n",
    "    if len(B) == 0:\n",
    "        return A\n",
    "    if len(A) == 0:\n",
    "        return -1 \n",
    "    i = len(A) - len(B) - 1\n",
    "    j = len(B) - 1\n",
    "    for k in range(len(A) - 1, -1, -1):\n",
    "        print(k)\n",
    "        if i < 0:\n",
    "            A[k] = B[j]\n",
    "        elif j < 0:\n",
    "            A[k] = A[i]\n",
    "        else:\n",
    "            A[k] = max(A[i], B[j])\n",
    "        if A[k] == A[i]:\n",
    "            i -= 1\n",
    "        else:\n",
    "            j-= 1\n",
    "    return A\n",
    "\n",
    "merge(A, B)\n",
    "        "
   ]
  },
  {
   "cell_type": "code",
   "execution_count": null,
   "metadata": {},
   "outputs": [],
   "source": [
    "perm_list = []\n",
    "array = [0, 1, 2]\n",
    "def perm_gen(subarr, idx_set):\n",
    "    if len(idx_set) == 0:\n",
    "        perm_list.append(subarr)\n",
    "    for idx in idx_set:\n",
    "        perm_generator(subarr + array[idx_set], idx_set - set([idx]))\n",
    "        "
   ]
  },
  {
   "cell_type": "code",
   "execution_count": 34,
   "metadata": {},
   "outputs": [
    {
     "data": {
      "text/plain": [
       "[0]"
      ]
     },
     "execution_count": 34,
     "metadata": {},
     "output_type": "execute_result"
    }
   ],
   "source": [
    "arr = [0, -1, -5, 1, 2, -2]\n",
    "def zerosum(arr):\t\n",
    "\ttotal = 0\n",
    "\tsums = {0:-1}\n",
    "\tfor i in range(len(arr)):\n",
    "\t\ttotal += arr[i]\n",
    "\t\tif total in sums:\n",
    "\t\t\treturn arr[sums[total]+1:i+1]\n",
    "\t\tsums[total] = i\n",
    "zerosum(arr)"
   ]
  },
  {
   "cell_type": "code",
   "execution_count": 66,
   "metadata": {},
   "outputs": [
    {
     "data": {
      "text/plain": [
       "True"
      ]
     },
     "execution_count": 66,
     "metadata": {},
     "output_type": "execute_result"
    }
   ],
   "source": [
    "from collections import defaultdict\n",
    "def is_anagram(str1, str2):\n",
    "    if len(str1) != len(str2):\n",
    "        return False\n",
    "    str1 = str1.lower()\n",
    "    str2 = str2.lower()\n",
    "    counter = defaultdict(int)\n",
    "    for char in str1:\n",
    "        counter[char] += 1\n",
    "    for char in str2:\n",
    "        counter[char] -= 1\n",
    "        if counter[char] == -1:\n",
    "            return False\n",
    "    for count in counter.values():\n",
    "        if count != 0:\n",
    "            return False\n",
    "    return True\n",
    "is_anagram(\"aAba\", \"baaa\")"
   ]
  },
  {
   "cell_type": "code",
   "execution_count": 67,
   "metadata": {},
   "outputs": [
    {
     "ename": "TypeError",
     "evalue": "list indices must be integers or slices, not str",
     "output_type": "error",
     "traceback": [
      "\u001b[0;31m---------------------------------------------------------------------------\u001b[0m",
      "\u001b[0;31mTypeError\u001b[0m                                 Traceback (most recent call last)",
      "Cell \u001b[0;32mIn [67], line 2\u001b[0m\n\u001b[1;32m      1\u001b[0m array \u001b[39m=\u001b[39m [\u001b[39m0\u001b[39m] \u001b[39m*\u001b[39m \u001b[39m256\u001b[39m\n\u001b[0;32m----> 2\u001b[0m array[\u001b[39m'\u001b[39;49m\u001b[39ma\u001b[39;49m\u001b[39m'\u001b[39;49m]\n",
      "\u001b[0;31mTypeError\u001b[0m: list indices must be integers or slices, not str"
     ]
    }
   ],
   "source": [
    "array = [0] * 256\n",
    "array['a']"
   ]
  },
  {
   "cell_type": "code",
   "execution_count": 86,
   "metadata": {},
   "outputs": [
    {
     "data": {
      "text/plain": [
       "[4, 0, 1, 2, 3]"
      ]
     },
     "execution_count": 86,
     "metadata": {},
     "output_type": "execute_result"
    }
   ],
   "source": [
    "\n",
    "\n",
    "\n",
    "deps_dict = {\n",
    "0: [4],\n",
    "1: [0],\n",
    "2: [0],\n",
    "3: [1, 2],\n",
    "4: [],\n",
    "}\n",
    "\n",
    "\n",
    "def build_order(deps_dict):\n",
    "\toutput = []\n",
    "\tvisited = set()\n",
    "\tvisiting = set()\n",
    "\tdef check_deps(node):\n",
    "\t\tif node in visiting:\n",
    "\t\t\traise ValueError(f\"depdency circle involving {node}. please check your shit\")\n",
    "\t\tif node in visited:\n",
    "\t\t\treturn\n",
    "\t\tvisiting.add(node)\n",
    "\t\tdeps = deps_dict[node]\n",
    "\t\tfor dep in deps:\n",
    "\t\t\tif dep not in visited:\t\n",
    "\t\t\t\tcheck_deps(dep)\n",
    "\t\toutput.append(node)\n",
    "\t\tvisited.add(node)\n",
    "\t\tvisiting.remove(node)\n",
    "\n",
    "\tfor node in deps_dict:\n",
    "\t\tcheck_deps(node)\t\n",
    "\treturn output\n",
    "\n",
    "build_order(deps_dict)"
   ]
  },
  {
   "cell_type": "code",
   "execution_count": 13,
   "metadata": {},
   "outputs": [
    {
     "name": "stdout",
     "output_type": "stream",
     "text": [
      "[0, 4, 1, 3]\n",
      "{0: 0, 1: 4, 2: 3, 3: 1, 4: 0}\n"
     ]
    },
    {
     "data": {
      "text/plain": [
       "{0: 0, 1: 2, 2: 4, 3: 3, 4: 1}"
      ]
     },
     "execution_count": 13,
     "metadata": {},
     "output_type": "execute_result"
    }
   ],
   "source": [
    "# dikjstra implementation\n",
    "from math import inf\n",
    "from heapq import heappush, heappop\n",
    "from re import L\n",
    "nodes = {\n",
    "0: [4],\n",
    "1: [3],\n",
    "2: [0],\n",
    "3: [1, 2],\n",
    "4: [1],\n",
    "}\n",
    "\n",
    "def shortest_path(graph, a, b):\n",
    "    node_distances = {node: inf for node in graph}\n",
    "    node_distances[a] = 0\n",
    "    node_prev_node_on_shortest_path = {node:node for node in graph}\n",
    "    visited = set()\n",
    "    pqueue = []\n",
    "    heappush(pqueue, (0, a))\n",
    "    \n",
    "    def visit_neighbors(node):\n",
    "        for neighbor in graph[node]:\n",
    "            if node_distances[node] + 1 < node_distances[neighbor]:\n",
    "                node_distances[neighbor] = node_distances[node] + 1\n",
    "                node_prev_node_on_shortest_path[neighbor] = node\n",
    "            heappush(pqueue, (node_distances[neighbor], neighbor))\n",
    "        return node_distances\n",
    "\n",
    "    while pqueue:\n",
    "        dist, node = heappop(pqueue)\n",
    "        if node not in visited:\n",
    "            visit_neighbors(node)\n",
    "            visited.add(node)\n",
    "\n",
    "    shortest_path = []\n",
    "    def traverse(node, end, node_prev_dict):\n",
    "        shortest_path.append(node)\n",
    "        if node == end:\n",
    "            return\n",
    "        next_node = node_prev_dict[node]\n",
    "        if next_node == node:\n",
    "            return\n",
    "        traverse(next_node, end, node_prev_dict)\n",
    "    traverse(b, a, node_prev_dict=node_prev_node_on_shortest_path)\n",
    "    print(shortest_path[::-1])\n",
    "    return node_distances\n",
    "\n",
    "shortest_path(nodes, 0, 3)\n"
   ]
  },
  {
   "cell_type": "code",
   "execution_count": 18,
   "metadata": {},
   "outputs": [
    {
     "data": {
      "text/plain": [
       "'11'"
      ]
     },
     "execution_count": 18,
     "metadata": {},
     "output_type": "execute_result"
    }
   ],
   "source": [
    "from random import randint\n",
    "def getRandom(N):\n",
    "    idx = randint(0, N-1)\n",
    "    node = self.root\n",
    "    for char in bin(3)[2:]:\n",
    "        if char == 1:\n",
    "            node = node.left\n",
    "        else:\n",
    "            node = node.right\n",
    "    return node"
   ]
  },
  {
   "cell_type": "code",
   "execution_count": 23,
   "metadata": {},
   "outputs": [
    {
     "data": {
      "text/plain": [
       "32"
      ]
     },
     "execution_count": 23,
     "metadata": {},
     "output_type": "execute_result"
    }
   ],
   "source": [
    "def knapsack(items, capacity):\n",
    "    weights, values = zip(*items)\n",
    "\n",
    "    values_table = [[0] * (capacity+1) for i in range(len(weights)+1)]\n",
    "    def update(row, col):\n",
    "        item_value = values[row-1]\n",
    "        item_weight = weights[row-1]\n",
    "        without_item = values_table[row-1][col]\n",
    "        if (col-item_weight) < 0:\n",
    "            with_item = 0\n",
    "        else:\n",
    "            with_item = values_table[row-1][col-item_weight] + item_value\n",
    "\n",
    "        return max(with_item, without_item)\n",
    "\n",
    "    for row in range(1, len(weights) + 1):\n",
    "        for col in range(0, capacity + 1):\n",
    "            values_table[row][col] = update(row, col)\n",
    "    return values_table[-1][-1]\n",
    "\n",
    "items = [(2, 10), (2,12), (3,15), (1,5), (0, 5), (32, 57)]\n",
    "knapsack(items, 5)\n"
   ]
  },
  {
   "cell_type": "code",
   "execution_count": 26,
   "metadata": {},
   "outputs": [
    {
     "data": {
      "text/plain": [
       "0"
      ]
     },
     "execution_count": 26,
     "metadata": {},
     "output_type": "execute_result"
    }
   ],
   "source": [
    "import operator\n",
    "\n",
    "def logical_sum(a, b):\n",
    "    a = bin(a)[2:][::-1]\n",
    "    b = bin(b)[2:][::-1]\n",
    "    bits = ''\n",
    "    remainder = 0\n",
    "    for i in range(min(len(a), len(b)):\n",
    "        abit = int(a[i])\n",
    "        bbit = int(b[i])\n",
    "        sumbit = abit ^ bbit \n",
    "        bits.append(sumbit ^ remainder)\n",
    "        remainder = remainder & (abit & bit)\n",
    "\n",
    "\n",
    "        \n",
    "    "
   ]
  },
  {
   "cell_type": "code",
   "execution_count": 42,
   "metadata": {},
   "outputs": [],
   "source": [
    "a = [1]"
   ]
  },
  {
   "cell_type": "code",
   "execution_count": 44,
   "metadata": {},
   "outputs": [
    {
     "name": "stdout",
     "output_type": "stream",
     "text": [
      "[1] [1, 2]\n"
     ]
    }
   ],
   "source": [
    "b = a.copy()\n",
    "b += [2]\n",
    "print(a, b)"
   ]
  },
  {
   "cell_type": "code",
   "execution_count": 48,
   "metadata": {},
   "outputs": [
    {
     "name": "stdout",
     "output_type": "stream",
     "text": [
      "[1, 2, 3]\n"
     ]
    }
   ],
   "source": [
    "def swap_last2(stack):\n",
    "    last = stack.pop()\n",
    "    second_last = stack.pop()\n",
    "    stack.append(second_last)\n",
    "    stack.append(last)\n",
    "\n",
    "def reverse_pop(stack):\n",
    "    if len(stack) <= 2:\n",
    "        return\n",
    "    bruv = stack.pop()\n",
    "    reverse_pop(stack)\n",
    "    swap_last2(stack)\n",
    "    stack.append(bruv)\n",
    "\n",
    "stack = [1, 2, 3]\n",
    "reverse_pop(stack)\n",
    "print(stack)"
   ]
  },
  {
   "cell_type": "code",
   "execution_count": 69,
   "metadata": {},
   "outputs": [
    {
     "name": "stdout",
     "output_type": "stream",
     "text": [
      "[3, 2, 1]\n"
     ]
    }
   ],
   "source": [
    "def sendthrough(stack, element):\n",
    "    if not stack :\n",
    "        return stack.append(element)\n",
    "    bruv = stack.pop()\n",
    "    sendthrough(stack, element)\n",
    "    stack.append(bruv)\n",
    "\n",
    "def reverse(stack):\n",
    "        if not stack: return \n",
    "        element = stack.pop()\n",
    "        reverse(stack)\n",
    "        sendthrough(stack, element)\n",
    "        return stack\n",
    "\n",
    "\n",
    "stack = [1, 2, 3]\n",
    "reverse(stack)\n",
    "print(stack)"
   ]
  },
  {
   "cell_type": "code",
   "execution_count": 73,
   "metadata": {},
   "outputs": [
    {
     "data": {
      "text/plain": [
       "[3]"
      ]
     },
     "execution_count": 73,
     "metadata": {},
     "output_type": "execute_result"
    }
   ],
   "source": [
    "def longest_branch(node):\n",
    "    max_seq = [0]\n",
    "    def max_len(node, target, curr_seq=1):\n",
    "        if node is None:\n",
    "            return\n",
    "        if node.val == target:\n",
    "            curr_seq += 1\n",
    "            max_seq[0] = max(max_seq[0], curr_seq)\n",
    "        else:\n",
    "            curr_seq = 1\n",
    "        max_len(node.left, node.val + 1, curr_seq)\n",
    "        max_len(node.right, node.val + 1, curr_seq)\n",
    "    max_len(node, target=None)\n",
    "    return max_seq\n",
    "\n",
    "class Node:\n",
    "    def __init__(self, val, left=None, right=None):\n",
    "        self.val = val\n",
    "        self.right = right\n",
    "        self.left = left\n",
    "tree = Node(0,Node(1,Node(3),Node(2)),Node(2,Node(5),Node(6)))\n",
    "longest_branch(tree)"
   ]
  },
  {
   "cell_type": "code",
   "execution_count": 5,
   "metadata": {},
   "outputs": [
    {
     "data": {
      "text/plain": [
       "2"
      ]
     },
     "execution_count": 5,
     "metadata": {},
     "output_type": "execute_result"
    }
   ],
   "source": [
    "def change(target:int, coins):\n",
    "\tDP = [[0] * (target + 1) for _ in range(len(coins) + 1)]\n",
    "\tDP[0][1:] = [float('inf')] * (target)\n",
    "\tfor idx_coin, coin in enumerate(coins):\n",
    "\t\tfor amount in range(1, target+1):\n",
    "\t\t\tif amount - coin < 0:\n",
    "\t\t\t\tbest_with_newcoin = float('inf')\n",
    "\t\t\telse:\n",
    "\t\t\t\tbest_with_newcoin = 1 + DP[idx_coin+1][amount - coin]\n",
    "\t\t\tDP[idx_coin+1][amount] = min(DP[idx_coin][amount],\n",
    "\t\t\t\t\tbest_with_newcoin)\n",
    "\n",
    "\treturn DP[-1][-1]\n",
    "\n",
    "change(8, [1, 4, 5])"
   ]
  },
  {
   "cell_type": "code",
   "execution_count": 18,
   "metadata": {},
   "outputs": [
    {
     "data": {
      "text/plain": [
       "[0, 1, 2, 3, 7]"
      ]
     },
     "execution_count": 18,
     "metadata": {},
     "output_type": "execute_result"
    }
   ],
   "source": [
    "# implement insertion sort\n",
    "\n",
    "def sort_(stack):\n",
    "    sorted_stack = []\n",
    "    while stack:\n",
    "        n = stack.pop()\n",
    "        insert(sorted_stack, n)\n",
    "    return sorted_stack\n",
    "\n",
    "def insert(stack, element):\n",
    "    if not stack: \n",
    "        stack.append(element)\n",
    "        return\n",
    "    current = stack.pop()\n",
    "    if current <= element:\n",
    "        stack.append(current)\n",
    "        return stack.append(element)\n",
    "    else:\n",
    "        insert(stack, element)\n",
    "        stack.append(current)\n",
    "    \n",
    "stack = [3, 1, 2, 7, 0]\n",
    "sort_(stack)"
   ]
  },
  {
   "cell_type": "code",
   "execution_count": 21,
   "metadata": {},
   "outputs": [],
   "source": [
    "from collections import deque"
   ]
  },
  {
   "cell_type": "code",
   "execution_count": 30,
   "metadata": {},
   "outputs": [
    {
     "data": {
      "text/plain": [
       "4"
      ]
     },
     "execution_count": 30,
     "metadata": {},
     "output_type": "execute_result"
    }
   ],
   "source": [
    "class Stack:\n",
    "\tdef __init__(self, iterable=[]):\n",
    "\t\tself.q = deque(iterable)\n",
    "\n",
    "\tdef pop(self):\n",
    "\t\tq_ = deque()\n",
    "\t\tif not self.q:\n",
    "\t\t\traise IndexError(\"Popping from empty stack.\")\n",
    "\t\twhile self.q:\n",
    "\t\t\telement = self.q.popleft()\n",
    "\t\t\tif not self.q:\n",
    "\t\t\t\tbreak\n",
    "\t\t\tq_.append(element)\n",
    "\t\tself.q = q_\n",
    "\t\treturn element\n",
    "\tdef push(self, val):\n",
    "\t\tself.q.append(val)\n",
    "stack = Stack([1,2,3])\n",
    "stack.push(4)\n",
    "stack.pop()"
   ]
  },
  {
   "cell_type": "code",
   "execution_count": 44,
   "metadata": {},
   "outputs": [
    {
     "data": {
      "text/plain": [
       "True"
      ]
     },
     "execution_count": 44,
     "metadata": {},
     "output_type": "execute_result"
    }
   ],
   "source": [
    "class Node:\n",
    "    def __init__(self, val, right=None):\n",
    "        self.val = val\n",
    "        self.right = right\n",
    "\n",
    "linked_list = Node(4, Node(2, Node(2, Node(4))))\n",
    "\n",
    "def palindrome(llist):\n",
    "    node = llist\n",
    "    stack = []\n",
    "    counter = 0\n",
    "    while node is not None:\n",
    "        stack.append(node)\n",
    "        node = node.right\n",
    "        counter += 1\n",
    "    \n",
    "    start_node = llist\n",
    "    while stack and counter >= 0:\n",
    "        end_node = stack.pop()\n",
    "        if end_node.val != start_node.val:\n",
    "            return False\n",
    "        start_node = start_node.right \n",
    "        counter -= 2\n",
    "    return True\n",
    "palindrome(linked_list)"
   ]
  },
  {
   "cell_type": "code",
   "execution_count": null,
   "metadata": {},
   "outputs": [],
   "source": [
    "1 + 2 + 3 .. + n = n * (n+1)/2\n",
    "\n",
    "def missing(array):\n",
    "    hash_table = {}\n",
    "    max_ = 0\n",
    "    for element in array:\n",
    "        hash_table.add(element)\n",
    "        max_ = max(element, max_)\n",
    "\n",
    "    missing_list = []\n",
    "    for i in range(1, max_):\n",
    "        if i not in hash_table:\n",
    "            missing_list.append(i)\n",
    "    return missing_list"
   ]
  },
  {
   "cell_type": "code",
   "execution_count": 3,
   "metadata": {},
   "outputs": [
    {
     "name": "stdout",
     "output_type": "stream",
     "text": [
      "1 5\n",
      "5 1\n"
     ]
    }
   ],
   "source": [
    "a = 1\n",
    "b = 5\n",
    "print(a,b)\n",
    "a += b #  (a+b)\n",
    "b = a - b # (a+b)-b = a\n",
    "a = a - b # a+b - a = b\n",
    "print(a,b)"
   ]
  },
  {
   "cell_type": "code",
   "execution_count": 5,
   "metadata": {},
   "outputs": [
    {
     "data": {
      "text/plain": [
       "0"
      ]
     },
     "execution_count": 5,
     "metadata": {},
     "output_type": "execute_result"
    }
   ],
   "source": [
    "temp = a ^ a \n",
    "temp & (temp -1)"
   ]
  },
  {
   "cell_type": "code",
   "execution_count": 22,
   "metadata": {},
   "outputs": [],
   "source": [
    "class Node:\n",
    "    def __init__(self, val, next=None, random_next=None):\n",
    "        self.val = val\n",
    "        self.next = next\n",
    "        self.random_next = random_next\n",
    "    def __hash__(self):\n",
    "        return id(self)\n",
    "    def __repr__(self):\n",
    "        return str(self.val)\n",
    "\n",
    "\n",
    "def clone(llist):\n",
    "    if not llist:\n",
    "        return None\n",
    "    node = llist\n",
    "    new_list = Node(node.val, node.next, node.random_next)\n",
    "    new_node = new_list\n",
    "    visited = {node:new_node}\n",
    "    while new_node:\n",
    "        visited[node] = new_node\n",
    "        node = new_node.next \n",
    "        if node is None:\n",
    "            new_node.next = None\n",
    "        else:\n",
    "            new_node.next = Node(node.val, node.next, node.random_next) \n",
    "        new_node = new_node.next\n",
    "\n",
    "\n",
    "    new_node = new_list\n",
    "    while new_node:\n",
    "        new_node.random_next = visited[new_node.random_next]\n",
    "        new_node = new_node.next\n",
    "    return new_list\n",
    "\n",
    "llist = Node(0, Node(1, Node(2,)))\n",
    "node = llist\n",
    "while node:\n",
    "    node.random_next = node\n",
    "    node = node.next"
   ]
  },
  {
   "cell_type": "code",
   "execution_count": 23,
   "metadata": {},
   "outputs": [
    {
     "name": "stdout",
     "output_type": "stream",
     "text": [
      "0 0\n",
      "1 1\n",
      "2 2\n"
     ]
    }
   ],
   "source": [
    "new_node = clone(llist)\n",
    "while new_node:\n",
    "    print(new_node, new_node.random_next)\n",
    "    new_node = new_node.next"
   ]
  },
  {
   "cell_type": "code",
   "execution_count": 39,
   "metadata": {},
   "outputs": [
    {
     "ename": "KeyboardInterrupt",
     "evalue": "",
     "output_type": "error",
     "traceback": [
      "\u001b[0;31m---------------------------------------------------------------------------\u001b[0m",
      "\u001b[0;31mKeyboardInterrupt\u001b[0m                         Traceback (most recent call last)",
      "\u001b[1;32m/Users/cm/Desktop/Untitled-1.ipynb Cell 28\u001b[0m in \u001b[0;36m<cell line: 11>\u001b[0;34m()\u001b[0m\n\u001b[1;32m      <a href='vscode-notebook-cell:/Users/cm/Desktop/Untitled-1.ipynb#X34sZmlsZQ%3D%3D?line=7'>8</a>\u001b[0m fast_runner \u001b[39m=\u001b[39m \u001b[39m3\u001b[39m\n\u001b[1;32m     <a href='vscode-notebook-cell:/Users/cm/Desktop/Untitled-1.ipynb#X34sZmlsZQ%3D%3D?line=9'>10</a>\u001b[0m steps \u001b[39m=\u001b[39m \u001b[39m0\u001b[39m\n\u001b[0;32m---> <a href='vscode-notebook-cell:/Users/cm/Desktop/Untitled-1.ipynb#X34sZmlsZQ%3D%3D?line=10'>11</a>\u001b[0m \u001b[39mwhile\u001b[39;00m slow_runner\u001b[39m!=\u001b[39mfast_runner \u001b[39mor\u001b[39;00m \u001b[39mnot\u001b[39;00m steps:\n\u001b[1;32m     <a href='vscode-notebook-cell:/Users/cm/Desktop/Untitled-1.ipynb#X34sZmlsZQ%3D%3D?line=11'>12</a>\u001b[0m     slow_runner \u001b[39m=\u001b[39m (slow_runner \u001b[39m+\u001b[39m \u001b[39m1\u001b[39m) \u001b[39m%\u001b[39m p\n\u001b[1;32m     <a href='vscode-notebook-cell:/Users/cm/Desktop/Untitled-1.ipynb#X34sZmlsZQ%3D%3D?line=12'>13</a>\u001b[0m     fast_runner \u001b[39m=\u001b[39m (fast_runner \u001b[39m+\u001b[39m \u001b[39m3\u001b[39m) \u001b[39m%\u001b[39m p \n",
      "\u001b[0;31mKeyboardInterrupt\u001b[0m: "
     ]
    }
   ],
   "source": [
    "# time and space O(N) store every pointer I see in a hash table\n",
    "# O(1) space\n",
    "# assuming elements are unique\n",
    "# \n",
    "\n",
    "p = 100\n",
    "slow_runner = 0\n",
    "fast_runner = 3\n",
    "\n",
    "steps = 0\n",
    "while slow_runner!=fast_runner or not steps:\n",
    "    slow_runner = (slow_runner + 1) % p\n",
    "    fast_runner = (fast_runner + 3) % p \n",
    "    steps += 1\n",
    "print(steps)"
   ]
  },
  {
   "cell_type": "code",
   "execution_count": 64,
   "metadata": {},
   "outputs": [
    {
     "name": "stdout",
     "output_type": "stream",
     "text": [
      "0\n",
      "2\n",
      "4\n"
     ]
    }
   ],
   "source": [
    "llist = Node(0, Node(2, Node(2, Node(0, Node(4)))))\n",
    "def dedup(llist):\n",
    "\tvisited = set()\n",
    "\tll = llist\n",
    "\twhile ll:\n",
    "\t\tif ll.val in visited:\n",
    "\t\t\tif not ll.next.next:\n",
    "\t\t\t\tbreak\n",
    "\t\t\tll.next = ll.next.next\n",
    "\t\telse:\n",
    "\t\t\tll = ll.next\n",
    "\t\t\tvisited.add(ll.val)\n",
    "\treturn llist\n",
    "\n",
    "new = dedup(llist)\n",
    "while new:\n",
    "\tprint(new)\n",
    "\tnew = new.next\n"
   ]
  },
  {
   "cell_type": "code",
   "execution_count": 8,
   "metadata": {},
   "outputs": [
    {
     "name": "stdout",
     "output_type": "stream",
     "text": [
      "0\n",
      "1\n",
      "2\n",
      "--\n",
      "3\n",
      "4\n"
     ]
    }
   ],
   "source": [
    "# 1 -> 2 -> 3 -> 4\n",
    "# 1, 1 # add two first list\n",
    "# 2, 3 # add to first list\n",
    "# 3 5 # runner ended; add to second list\n",
    "\n",
    "\n",
    "class Node:\n",
    "    def __init__(self, val, next=None, random_next=None):\n",
    "        self.val = val\n",
    "        self.next = next\n",
    "        self.random_next = random_next\n",
    "    def __hash__(self):\n",
    "        return id(self)\n",
    "    def __repr__(self):\n",
    "        return str(self.val)\n",
    "    \n",
    "def split(llist):\n",
    "    if llist is None:\n",
    "        return None, None\n",
    "    node = llist\n",
    "    runner = llist\n",
    "    while runner.next and runner.next.next:\n",
    "        node = node.next\n",
    "        runner = runner.next.next\n",
    "    llist2 = node.next\n",
    "    node.next = None\n",
    "    return llist, llist2\n",
    "\n",
    "\n",
    "llist = Node(0, Node(1, Node(2, Node(3, Node(4)))))\n",
    "l1, l2 = split(llist)\n",
    "def print_list(l):\n",
    "    node = l\n",
    "    while node:\n",
    "        print(node)\n",
    "        node = node.next\n",
    "print_list(l1)\n",
    "print(\"--\")\n",
    "print_list(l2)\n"
   ]
  },
  {
   "cell_type": "markdown",
   "metadata": {},
   "source": [
    "# 43. Three Sum"
   ]
  },
  {
   "cell_type": "code",
   "execution_count": 7,
   "metadata": {},
   "outputs": [
    {
     "name": "stdout",
     "output_type": "stream",
     "text": [
      "[-4, -1, -1, 0, 1, 2]\n"
     ]
    },
    {
     "data": {
      "text/plain": [
       "{(-1, -1, 2), (-1, 0, 1)}"
      ]
     },
     "execution_count": 7,
     "metadata": {},
     "output_type": "execute_result"
    }
   ],
   "source": [
    "# for each a in array\n",
    "#   for each b subarray\n",
    "#       search for c = -(b+a) (O(1) lookup)\n",
    "# N^2 time and N space\n",
    "# sort array -> O(N) \n",
    "# -4 -1 0 1 2\n",
    "#  ^  ^     ^\n",
    "#     ^   ^ ^\n",
    "# -4 + 2 = -2 (O(1) lookup for dict[2]- (a==2 + b==2))\n",
    "# dict = hashmap (int:count) \n",
    "#  \n",
    "\n",
    "array = [-1, 0, 1, 2, -1, -4]\n",
    "def three_sum(array):\n",
    "    array = sorted(array)\n",
    "    results = set()\n",
    "    for i in range(len(array)):\n",
    "        a = array[i]\n",
    "        start = i+1\n",
    "        end = len(array) - 1\n",
    "        while start < end:\n",
    "            b = array[start]\n",
    "            c = array[end]\n",
    "            if (a + b + c) > 0:\n",
    "                end -= 1\n",
    "            elif (a + b + c) < 0:\n",
    "                start += 1\n",
    "            else:\n",
    "                results.add((a,b,c)) \n",
    "                end -= 1\n",
    "                start += 1\n",
    "    return results\n",
    "three_sum(array)\n"
   ]
  },
  {
   "cell_type": "markdown",
   "metadata": {},
   "source": [
    "# 45. Autocomplete"
   ]
  },
  {
   "cell_type": "code",
   "execution_count": 43,
   "metadata": {},
   "outputs": [
    {
     "data": {
      "text/plain": [
       "['abc', 'aabc', 'aabd']"
      ]
     },
     "execution_count": 43,
     "metadata": {},
     "output_type": "execute_result"
    }
   ],
   "source": [
    "from dataclasses import dataclass, field\n",
    "from typing import Set, Optional\n",
    "from collections import deque\n",
    "\n",
    "\n",
    "@dataclass\n",
    "class TrieNode:\n",
    "    children : Optional[dict] = field(default_factory=dict)\n",
    "    is_word : Optional[bool] = False\n",
    "    def __repr__(self):\n",
    "        return \", \".join([str(key) for key in self.children.keys()])\n",
    "\n",
    "def insert_word(root, word):\n",
    "    node = root\n",
    "    for char in word:\n",
    "        if char not in node.children:\n",
    "            node.children[char] = TrieNode()\n",
    "        node = node.children[char]\n",
    "    node.is_word = True\n",
    "\n",
    "def search(root, word):\n",
    "    node = root\n",
    "    for char in word:\n",
    "        if char not in node.children:\n",
    "            return False\n",
    "        node = node.children[char]\n",
    "    return node\n",
    "\n",
    "def show_trie(trie):\n",
    "    node = trie\n",
    "    q = deque([node])\n",
    "    while q:\n",
    "        node = q.pop()\n",
    "        for char, node in node.children.items():\n",
    "            q.appendleft(node)\n",
    "            print(char, end=', ')\n",
    "        print(\"\\n\")\n",
    "\n",
    "\n",
    "def get_suffixes(node):\n",
    "    if not node.children:\n",
    "        return ['']\n",
    "    all_words =[]\n",
    "    for char, node in node.children.items():\n",
    "        words = get_suffixes(node)\n",
    "        all_words.extend([char + word for word in words])\n",
    "    return all_words\n",
    "\n",
    "\n",
    "def autocomplete(trie, prefix):\n",
    "    if prefix == '':\n",
    "        return get_suffixes(trie)\n",
    "    node_found = search(trie, prefix)\n",
    "    if node_found:\n",
    "        return [prefix + suffix for suffix in get_suffixes(node_found)]\n",
    "    return ['']\n",
    "\n",
    "# stack: a, b -> \n",
    "trie = TrieNode()\n",
    "words = [\"abc\", \"aabc\",\"aabd\"]\n",
    "for word in words:\n",
    "    insert_word(trie, word)\n",
    "\n",
    "# show_trie(trie)\n",
    "prefix = \"\"\n",
    "\n",
    "autocomplete(trie, prefix)"
   ]
  },
  {
   "cell_type": "code",
   "execution_count": 46,
   "metadata": {},
   "outputs": [
    {
     "data": {
      "text/plain": [
       "[1, 2, 3]"
      ]
     },
     "execution_count": 46,
     "metadata": {},
     "output_type": "execute_result"
    }
   ],
   "source": [
    "lst = [1, 2, 3,]\n",
    "lst[0:4]"
   ]
  },
  {
   "cell_type": "code",
   "execution_count": 54,
   "metadata": {},
   "outputs": [
    {
     "data": {
      "text/plain": [
       "'BCA'"
      ]
     },
     "execution_count": 54,
     "metadata": {},
     "output_type": "execute_result"
    }
   ],
   "source": [
    "def LongestSubstring(str1, str2):\n",
    "\tDP = [[0] * len(str2) for i in range(len(str1))]\n",
    "\tindex_max = 0\n",
    "\tmax_len = 0\t\n",
    "\tfor i in range(1, len(str1)):\n",
    "\t\tfor j in range(1, len(str2)):\n",
    "\t\t\tDP[i][j] = DP[i-1][j-1] + 1 if str1[i]==str2[j] else 0\t\t\n",
    "\t\t\tif DP[i][j] > max_len:\n",
    "\t\t\t\tmax_len = DP[i][j]\n",
    "\t\t\t\tindex_max = i\n",
    "\treturn str1[index_max+1 - max_len :index_max+1]\n",
    "LongestSubstring(\"ABCA\", \"ABCBCAD\")"
   ]
  },
  {
   "cell_type": "code",
   "execution_count": 97,
   "metadata": {},
   "outputs": [
    {
     "name": "stdout",
     "output_type": "stream",
     "text": [
      "10\n",
      "10\n",
      "3\n",
      "1\n",
      "2\n"
     ]
    },
    {
     "data": {
      "text/plain": [
       "[0, 2]"
      ]
     },
     "execution_count": 97,
     "metadata": {},
     "output_type": "execute_result"
    }
   ],
   "source": [
    "def str_to_bin(s):\n",
    "    perm = 0 \n",
    "    for char in s:\n",
    "        perm |= char_to_bin(char)\n",
    "    return perm\n",
    "def char_to_bin(char):\n",
    "    return 2**(ord(char)-97)\n",
    "\n",
    "def permutation_check(small, large):\n",
    "    if len(large) < len(small):\n",
    "        return -1\n",
    "    target = str_to_bin(small)\n",
    "    results = []\n",
    "    encoding = str_to_bin(large[:len(small)])\n",
    "    if encoding == target: results.append(0)\n",
    "    for i in range(len(large) - len(small)):\n",
    "        encoding ^= char_to_bin(large[i])\n",
    "        encoding |= char_to_bin(large[i + len(small)])\n",
    "        print(encoding)\n",
    "        if encoding == target:\n",
    "            results.append(i)\n",
    "    return results\n",
    "\n",
    "\n",
    "permutation_check(\"ab\", \"abdbaab\")  "
   ]
  },
  {
   "cell_type": "code",
   "execution_count": 109,
   "metadata": {},
   "outputs": [
    {
     "data": {
      "text/plain": [
       "[0]"
      ]
     },
     "execution_count": 109,
     "metadata": {},
     "output_type": "execute_result"
    }
   ],
   "source": [
    "from collections import defaultdict\n",
    "def hash_str(string):\n",
    "    target = defaultdict(int)\n",
    "    for char in string:\n",
    "        target[char] += 1\n",
    "    return target\n",
    "\n",
    "def permutation_check(small, large):\n",
    "    if len(large) < len(small):\n",
    "        return -1\n",
    "    results = []\n",
    "    target = hash_str(small)\n",
    "    window = hash_str(large[:len(small)])\n",
    "    if window == target: results.append(0)\n",
    "    for i in range(len(large) - len(small)):\n",
    "        window[large[i]] -= 1\n",
    "        window[large[i + len(small)]] += 1\n",
    "        if window == target:\n",
    "            results.append(i)\n",
    "    return results\n",
    "permutation_check(\"ab\", \"abc\")"
   ]
  },
  {
   "cell_type": "code",
   "execution_count": 110,
   "metadata": {},
   "outputs": [
    {
     "data": {
      "text/plain": [
       "29.0"
      ]
     },
     "execution_count": 110,
     "metadata": {},
     "output_type": "execute_result"
    }
   ],
   "source": [
    "7/8*(31) + 7/8 + 1"
   ]
  },
  {
   "cell_type": "code",
   "execution_count": 126,
   "metadata": {},
   "outputs": [
    {
     "data": {
      "text/plain": [
       "'a'"
      ]
     },
     "execution_count": 126,
     "metadata": {},
     "output_type": "execute_result"
    }
   ],
   "source": [
    "def lcs(A,B):\n",
    "  maxlen = 0\n",
    "  idx = 0\n",
    "  while maxlen + idx <= len(A):\n",
    "    if A[idx:idx+maxlen+1] in B:\n",
    "      maxlen += 1\n",
    "    else:\n",
    "      idx += 1\n",
    "  return A[idx:idx+maxlen] \n",
    "\n",
    "lcs(\"abaa\", \"bab\")"
   ]
  },
  {
   "cell_type": "code",
   "execution_count": 150,
   "metadata": {},
   "outputs": [
    {
     "data": {
      "text/plain": [
       "8"
      ]
     },
     "execution_count": 150,
     "metadata": {},
     "output_type": "execute_result"
    }
   ],
   "source": [
    "def fibo(n):\n",
    "\tfib = [0, 1]\n",
    "\tfor i in range(2, n + 1):\n",
    "\t\tfib[1], fib[0] = fib[0]+fib[1], fib[1] \n",
    "\treturn fib[n > 0]\n",
    "fibo(6)"
   ]
  },
  {
   "cell_type": "code",
   "execution_count": 183,
   "metadata": {},
   "outputs": [
    {
     "data": {
      "text/plain": [
       "[1, 4]"
      ]
     },
     "execution_count": 183,
     "metadata": {},
     "output_type": "execute_result"
    }
   ],
   "source": [
    "\n",
    "def subsetsum(arr, target):\n",
    "    DP = [[[] for i in range(target + 1)] for i in range(len(arr) + 1)]\n",
    "    for i in range(1, len(arr)+1):\n",
    "        for j in range(1, target + 1):\n",
    "            if j-arr[i-1] < 0:\n",
    "                DP[i][j] = DP[i-1][j]\n",
    "            total = DP[i-1][j-arr[i-1]] + [arr[i-1]]\n",
    "            DP[i][j] = total if sum(total) == j else DP[i-1][j] #else []\n",
    "    return DP[-1][target]\n",
    "subsetsum([1,2,4], 5)"
   ]
  },
  {
   "cell_type": "code",
   "execution_count": 199,
   "metadata": {},
   "outputs": [
    {
     "data": {
      "text/plain": [
       "[]"
      ]
     },
     "execution_count": 199,
     "metadata": {},
     "output_type": "execute_result"
    }
   ],
   "source": [
    "from functools import lru_cache\n",
    "\n",
    "def subsetsum_(arr, target):\n",
    "        @lru_cache\n",
    "        def _subsetsum_(i, target):\n",
    "            if i == 0 or target <= 0:\n",
    "                return []\n",
    "            subarray = _subsetsum_(i-1, target - arr[i-1]) + [arr[i-1]]\n",
    "            if sum(subarray) == target:\n",
    "                return subarray\n",
    "            else:\n",
    "                return _subsetsum_(i-1, target)\n",
    "        return _subsetsum_(len(arr), target)\n",
    "\n",
    "subsetsum_([], 6)"
   ]
  },
  {
   "cell_type": "code",
   "execution_count": 219,
   "metadata": {},
   "outputs": [
    {
     "name": "stdout",
     "output_type": "stream",
     "text": [
      "False\n"
     ]
    }
   ],
   "source": [
    "def is_summable(arr, SUM):\n",
    "    if SUM == 0: return True\n",
    "    sums = set([0])\n",
    "    for element in arr:\n",
    "        sums_w_element = set()\n",
    "        for prev_sum in sums:\n",
    "            new_sum = prev_sum + element\n",
    "            if new_sum == SUM:\n",
    "                return True\n",
    "            sums_w_element.add(new_sum)\n",
    "        sums = sums.union(sums_w_element)\n",
    "    return False\n",
    "print(is_summable([1,2,3], 7))"
   ]
  },
  {
   "cell_type": "code",
   "execution_count": 252,
   "metadata": {},
   "outputs": [
    {
     "data": {
      "text/plain": [
       "11"
      ]
     },
     "execution_count": 252,
     "metadata": {},
     "output_type": "execute_result"
    }
   ],
   "source": [
    "def matrix_shortest_path(M):\n",
    "    DP = [[0] * (len(M[0])+2) for _ in range(len(M))]\n",
    "    DP[0] = [0] + M[0] + [0]\n",
    "    for row in range(1, len(DP)):\n",
    "        for col in range(1, len(M[0])):\n",
    "            DP[row][col] = max([M[row][col-1] + DP[row-1][col + i] for i in range(-1, 2)])\n",
    "    return max(DP[-1])\n",
    "\n",
    "def matrix_longest_path(M):\n",
    "    @lru_cache\n",
    "    def recurse(row, col):\n",
    "        if col >= len(M[0]) or col < 0 or row < 0:\n",
    "            return 0\n",
    "        return max([recurse(row-1, col+i) + M[row][col] for i in range(-1, 2)])\n",
    "    return max(recurse(len(M)-1, col) for col in range(len(M[0])))\n",
    "M = [[0, 1, 4], [2, 3, 0], [4, 3, 1]]\n",
    "matrix_longest_path(M)"
   ]
  },
  {
   "cell_type": "code",
   "execution_count": 34,
   "metadata": {},
   "outputs": [
    {
     "data": {
      "text/plain": [
       "3"
      ]
     },
     "execution_count": 34,
     "metadata": {},
     "output_type": "execute_result"
    }
   ],
   "source": [
    "from functools import lru_cache\n",
    "\n",
    "def longest_inc_seq(arr):\n",
    "    MAX = 0\n",
    "    # @lru_cache\n",
    "    def lis(i):\n",
    "        all_sequences_smaller = [lis(j) for j in range(i) if arr[i] > arr[j]]\n",
    "        if not all_sequences_smaller:\n",
    "            return 1 \n",
    "        new_max = 1 + max(all_sequences_smaller)\n",
    "        return new_max\n",
    "\n",
    "    for i in range(len(arr)):\n",
    "        MAX = max(MAX, lis(i))\n",
    "    return MAX\n",
    "arr = [4, 5, 6, 1]\n",
    "longest_inc_seq(arr)"
   ]
  },
  {
   "cell_type": "code",
   "execution_count": null,
   "metadata": {},
   "outputs": [],
   "source": [
    "# longest subsequence ending in i = max(longest subseq endig in j) + 1 (if j < i)"
   ]
  },
  {
   "cell_type": "code",
   "execution_count": 23,
   "metadata": {},
   "outputs": [
    {
     "name": "stdout",
     "output_type": "stream",
     "text": [
      "['b']\n"
     ]
    }
   ],
   "source": [
    "x = [0]\n",
    "def a():\n",
    "    x[0] = \"a\"\n",
    "    def b():\n",
    "        x[0] = \"b\"\n",
    "        return x\n",
    "    b()\n",
    "    return x\n",
    "print(a())"
   ]
  },
  {
   "cell_type": "code",
   "execution_count": 42,
   "metadata": {},
   "outputs": [
    {
     "data": {
      "text/plain": [
       "5"
      ]
     },
     "execution_count": 42,
     "metadata": {},
     "output_type": "execute_result"
    }
   ],
   "source": [
    "def zo_diff(string):\n",
    "    max_len = 0\n",
    "    cur_len = 0\n",
    "    for el in string:\n",
    "        if el == \"0\":\n",
    "            cur_len += 1\n",
    "        else:\n",
    "            max_len = max(cur_len, max_len)\n",
    "            cur_len = max(cur_len - 1, 0) \n",
    "    return max(max_len, cur_len)\n",
    "zo_diff(\"010000100\")"
   ]
  },
  {
   "cell_type": "code",
   "execution_count": 51,
   "metadata": {},
   "outputs": [
    {
     "data": {
      "text/plain": [
       "[]"
      ]
     },
     "execution_count": 51,
     "metadata": {},
     "output_type": "execute_result"
    }
   ],
   "source": [
    "from collections import deque\n",
    "def search_matrix(mat):\n",
    "    n, m = len(mat), len(mat[0]) \n",
    "    def recurse(i, j):\n",
    "        if i == n-1 and j==m-1:\n",
    "            return deque([(i,j)])\n",
    "        if i==n or j==m or mat[i][j] == 1:\n",
    "            return []\n",
    "        path1 = recurse(i+1, j)\n",
    "        path2 = recurse(i, j+1)\n",
    "        if len(path1)==0 and len(path2)==0:\n",
    "            return []\n",
    "        path = path1 or path2\n",
    "        path.appendleft((i,j))\n",
    "        return path\n",
    "    return recurse(0, 0)\n",
    "\n",
    "mat = [[0, 1], [1, 0]]\n",
    "search_matrix(mat)"
   ]
  },
  {
   "cell_type": "code",
   "execution_count": 242,
   "metadata": {},
   "outputs": [
    {
     "data": {
      "text/plain": [
       "['abc', 'ab', 'ac', 'a', 'bc', 'b', 'c', '']"
      ]
     },
     "execution_count": 242,
     "metadata": {},
     "output_type": "execute_result"
    }
   ],
   "source": [
    "def power_set(s):\n",
    "    results = []\n",
    "    def _power_set(idx, current_set=''):\n",
    "        if idx == len(s): \n",
    "            results.append(current_set)\n",
    "            return\n",
    "        _power_set(idx+1, current_set +s[idx])\n",
    "        _power_set(idx+1, current_set)\n",
    "    _power_set(0)\n",
    "    return results\n",
    "power_set(\"abc\")"
   ]
  },
  {
   "cell_type": "code",
   "execution_count": null,
   "metadata": {},
   "outputs": [],
   "source": [
    "def power_set(s):\n",
    "    def _power_set(idx, current_set=''):\n",
    "        if idx >= len(s): \n",
    "            yield current_set\n",
    "            return\n",
    "        yield from _power_set(idx+1, current_set +s[idx])\n",
    "        yield from _power_set(idx+1, current_set)\n",
    "    return _power_set(0)\n",
    "list(power_set(\"abc\"))"
   ]
  },
  {
   "cell_type": "code",
   "execution_count": 73,
   "metadata": {},
   "outputs": [
    {
     "name": "stdout",
     "output_type": "stream",
     "text": [
      "8\n"
     ]
    },
    {
     "data": {
      "text/plain": [
       "[[], [0], [1], [0, 1], [2], [0, 2], [1, 2], [0, 1, 2]]"
      ]
     },
     "execution_count": 73,
     "metadata": {},
     "output_type": "execute_result"
    }
   ],
   "source": [
    "[-1, 0, 0, 2, 5, 6]\n",
    "# dj = arr[j] - j is monotonically increasing bc unique elements \n",
    "# binary search in j\n",
    "# if dj > 0 -> end = j//2 + j%2\n",
    "# else start = j//2 + j%2\n",
    "# bs(start, end) \n",
    "# arr[4] = 6\n",
    "# if j > arr[j]:\n",
    "#     j++\n",
    "# else:\n",
    "#     j = arr[j]\n",
    "\n",
    "\n",
    "\n",
    "def power_set(s):\n",
    "    subsets = []\n",
    "    total = 2 ** len(s)\n",
    "    for subset_counter in range(total):\n",
    "        subset = []\n",
    "        for element_idx in range(len(s)):\n",
    "            if (subset_counter & 1<<element_idx):\n",
    "                subset.append(s[element_idx])\n",
    "        subsets.append(subset)\n",
    "    return subsets\n",
    "            \n",
    "\n",
    "subsets = power_set((0, 1, 2))\n",
    "print(len(subsets))\n",
    "subsets"
   ]
  },
  {
   "cell_type": "code",
   "execution_count": 76,
   "metadata": {},
   "outputs": [
    {
     "data": {
      "text/plain": [
       "20"
      ]
     },
     "execution_count": 76,
     "metadata": {},
     "output_type": "execute_result"
    }
   ],
   "source": [
    "def multiply(a, b):\n",
    "    a, b = min(a, b), max(a, b)\n",
    "    def _mult(a):\n",
    "        if a == 0:\n",
    "            return 0\n",
    "        return b + _mult(a-1)\n",
    "    return _mult(a)\n",
    "multiply(10, 2)"
   ]
  },
  {
   "cell_type": "code",
   "execution_count": 184,
   "metadata": {},
   "outputs": [
    {
     "name": "stdout",
     "output_type": "stream",
     "text": [
      "[] [] [4, 3, 2, 1]\n"
     ]
    }
   ],
   "source": [
    "def move_from_to_buffer(n, source, target, buffer):\n",
    "    if n == 0: return \n",
    "    move_from_to_buffer(n-1, source, buffer, target) \n",
    "    top = source.pop()\n",
    "    target.append(top)\n",
    "    move_from_to_buffer(n-1, buffer, target, source)\n",
    "s1 = [4, 3, 2, 1]\n",
    "s2 = []\n",
    "s3 = []\n",
    "\n",
    "move_from_to_buffer(4, s1, s3, s2)\n",
    "print(s1, s2, s3)"
   ]
  },
  {
   "cell_type": "code",
   "execution_count": 200,
   "metadata": {},
   "outputs": [
    {
     "ename": "KeyboardInterrupt",
     "evalue": "",
     "output_type": "error",
     "traceback": [
      "\u001b[0;31m---------------------------------------------------------------------------\u001b[0m",
      "\u001b[0;31mKeyboardInterrupt\u001b[0m                         Traceback (most recent call last)",
      "\u001b[1;32m/Users/cm/Desktop/Untitled-1.ipynb Cell 54\u001b[0m in \u001b[0;36m<cell line: 26>\u001b[0;34m()\u001b[0m\n\u001b[1;32m     <a href='vscode-notebook-cell:/Users/cm/Desktop/Untitled-1.ipynb#Y125sZmlsZQ%3D%3D?line=23'>24</a>\u001b[0m n \u001b[39m=\u001b[39m \u001b[39m100\u001b[39m\n\u001b[1;32m     <a href='vscode-notebook-cell:/Users/cm/Desktop/Untitled-1.ipynb#Y125sZmlsZQ%3D%3D?line=24'>25</a>\u001b[0m board \u001b[39m=\u001b[39m [[\u001b[39m0\u001b[39m] \u001b[39m*\u001b[39m n \u001b[39mfor\u001b[39;00m _ \u001b[39min\u001b[39;00m \u001b[39mrange\u001b[39m(n)]\n\u001b[0;32m---> <a href='vscode-notebook-cell:/Users/cm/Desktop/Untitled-1.ipynb#Y125sZmlsZQ%3D%3D?line=25'>26</a>\u001b[0m place_queen(board, \u001b[39m0\u001b[39;49m)\n\u001b[1;32m     <a href='vscode-notebook-cell:/Users/cm/Desktop/Untitled-1.ipynb#Y125sZmlsZQ%3D%3D?line=26'>27</a>\u001b[0m \u001b[39mprint\u001b[39m(\u001b[39m*\u001b[39mboard, sep\u001b[39m=\u001b[39m\u001b[39m\"\u001b[39m\u001b[39m\\n\u001b[39;00m\u001b[39m\"\u001b[39m)\n",
      "\u001b[1;32m/Users/cm/Desktop/Untitled-1.ipynb Cell 54\u001b[0m in \u001b[0;36mplace_queen\u001b[0;34m(board, row)\u001b[0m\n\u001b[1;32m     <a href='vscode-notebook-cell:/Users/cm/Desktop/Untitled-1.ipynb#Y125sZmlsZQ%3D%3D?line=13'>14</a>\u001b[0m \u001b[39mif\u001b[39;00m check(board, row, col):\n\u001b[1;32m     <a href='vscode-notebook-cell:/Users/cm/Desktop/Untitled-1.ipynb#Y125sZmlsZQ%3D%3D?line=14'>15</a>\u001b[0m     board[row][col] \u001b[39m=\u001b[39m \u001b[39m1\u001b[39m\n\u001b[0;32m---> <a href='vscode-notebook-cell:/Users/cm/Desktop/Untitled-1.ipynb#Y125sZmlsZQ%3D%3D?line=15'>16</a>\u001b[0m     \u001b[39mif\u001b[39;00m place_queen(board, row\u001b[39m+\u001b[39;49m\u001b[39m1\u001b[39;49m):\n\u001b[1;32m     <a href='vscode-notebook-cell:/Users/cm/Desktop/Untitled-1.ipynb#Y125sZmlsZQ%3D%3D?line=16'>17</a>\u001b[0m         \u001b[39mreturn\u001b[39;00m \u001b[39mTrue\u001b[39;00m\n\u001b[1;32m     <a href='vscode-notebook-cell:/Users/cm/Desktop/Untitled-1.ipynb#Y125sZmlsZQ%3D%3D?line=17'>18</a>\u001b[0m     board[row][col] \u001b[39m=\u001b[39m \u001b[39m0\u001b[39m\n",
      "\u001b[1;32m/Users/cm/Desktop/Untitled-1.ipynb Cell 54\u001b[0m in \u001b[0;36mplace_queen\u001b[0;34m(board, row)\u001b[0m\n\u001b[1;32m     <a href='vscode-notebook-cell:/Users/cm/Desktop/Untitled-1.ipynb#Y125sZmlsZQ%3D%3D?line=13'>14</a>\u001b[0m \u001b[39mif\u001b[39;00m check(board, row, col):\n\u001b[1;32m     <a href='vscode-notebook-cell:/Users/cm/Desktop/Untitled-1.ipynb#Y125sZmlsZQ%3D%3D?line=14'>15</a>\u001b[0m     board[row][col] \u001b[39m=\u001b[39m \u001b[39m1\u001b[39m\n\u001b[0;32m---> <a href='vscode-notebook-cell:/Users/cm/Desktop/Untitled-1.ipynb#Y125sZmlsZQ%3D%3D?line=15'>16</a>\u001b[0m     \u001b[39mif\u001b[39;00m place_queen(board, row\u001b[39m+\u001b[39;49m\u001b[39m1\u001b[39;49m):\n\u001b[1;32m     <a href='vscode-notebook-cell:/Users/cm/Desktop/Untitled-1.ipynb#Y125sZmlsZQ%3D%3D?line=16'>17</a>\u001b[0m         \u001b[39mreturn\u001b[39;00m \u001b[39mTrue\u001b[39;00m\n\u001b[1;32m     <a href='vscode-notebook-cell:/Users/cm/Desktop/Untitled-1.ipynb#Y125sZmlsZQ%3D%3D?line=17'>18</a>\u001b[0m     board[row][col] \u001b[39m=\u001b[39m \u001b[39m0\u001b[39m\n",
      "    \u001b[0;31m[... skipping similar frames: place_queen at line 16 (61 times)]\u001b[0m\n",
      "\u001b[1;32m/Users/cm/Desktop/Untitled-1.ipynb Cell 54\u001b[0m in \u001b[0;36mplace_queen\u001b[0;34m(board, row)\u001b[0m\n\u001b[1;32m     <a href='vscode-notebook-cell:/Users/cm/Desktop/Untitled-1.ipynb#Y125sZmlsZQ%3D%3D?line=13'>14</a>\u001b[0m \u001b[39mif\u001b[39;00m check(board, row, col):\n\u001b[1;32m     <a href='vscode-notebook-cell:/Users/cm/Desktop/Untitled-1.ipynb#Y125sZmlsZQ%3D%3D?line=14'>15</a>\u001b[0m     board[row][col] \u001b[39m=\u001b[39m \u001b[39m1\u001b[39m\n\u001b[0;32m---> <a href='vscode-notebook-cell:/Users/cm/Desktop/Untitled-1.ipynb#Y125sZmlsZQ%3D%3D?line=15'>16</a>\u001b[0m     \u001b[39mif\u001b[39;00m place_queen(board, row\u001b[39m+\u001b[39;49m\u001b[39m1\u001b[39;49m):\n\u001b[1;32m     <a href='vscode-notebook-cell:/Users/cm/Desktop/Untitled-1.ipynb#Y125sZmlsZQ%3D%3D?line=16'>17</a>\u001b[0m         \u001b[39mreturn\u001b[39;00m \u001b[39mTrue\u001b[39;00m\n\u001b[1;32m     <a href='vscode-notebook-cell:/Users/cm/Desktop/Untitled-1.ipynb#Y125sZmlsZQ%3D%3D?line=17'>18</a>\u001b[0m     board[row][col] \u001b[39m=\u001b[39m \u001b[39m0\u001b[39m\n",
      "\u001b[1;32m/Users/cm/Desktop/Untitled-1.ipynb Cell 54\u001b[0m in \u001b[0;36mplace_queen\u001b[0;34m(board, row)\u001b[0m\n\u001b[1;32m     <a href='vscode-notebook-cell:/Users/cm/Desktop/Untitled-1.ipynb#Y125sZmlsZQ%3D%3D?line=11'>12</a>\u001b[0m \u001b[39mif\u001b[39;00m row\u001b[39m==\u001b[39m\u001b[39mlen\u001b[39m(board): \u001b[39mreturn\u001b[39;00m \u001b[39mTrue\u001b[39;00m\n\u001b[1;32m     <a href='vscode-notebook-cell:/Users/cm/Desktop/Untitled-1.ipynb#Y125sZmlsZQ%3D%3D?line=12'>13</a>\u001b[0m \u001b[39mfor\u001b[39;00m col \u001b[39min\u001b[39;00m \u001b[39mrange\u001b[39m(\u001b[39mlen\u001b[39m(board)):\n\u001b[0;32m---> <a href='vscode-notebook-cell:/Users/cm/Desktop/Untitled-1.ipynb#Y125sZmlsZQ%3D%3D?line=13'>14</a>\u001b[0m     \u001b[39mif\u001b[39;00m check(board, row, col):\n\u001b[1;32m     <a href='vscode-notebook-cell:/Users/cm/Desktop/Untitled-1.ipynb#Y125sZmlsZQ%3D%3D?line=14'>15</a>\u001b[0m         board[row][col] \u001b[39m=\u001b[39m \u001b[39m1\u001b[39m\n\u001b[1;32m     <a href='vscode-notebook-cell:/Users/cm/Desktop/Untitled-1.ipynb#Y125sZmlsZQ%3D%3D?line=15'>16</a>\u001b[0m         \u001b[39mif\u001b[39;00m place_queen(board, row\u001b[39m+\u001b[39m\u001b[39m1\u001b[39m):\n",
      "\u001b[1;32m/Users/cm/Desktop/Untitled-1.ipynb Cell 54\u001b[0m in \u001b[0;36mcheck\u001b[0;34m(board, i, j)\u001b[0m\n\u001b[1;32m      <a href='vscode-notebook-cell:/Users/cm/Desktop/Untitled-1.ipynb#Y125sZmlsZQ%3D%3D?line=5'>6</a>\u001b[0m \u001b[39mfor\u001b[39;00m row \u001b[39min\u001b[39;00m \u001b[39mrange\u001b[39m(\u001b[39mlen\u001b[39m(board)):\n\u001b[1;32m      <a href='vscode-notebook-cell:/Users/cm/Desktop/Untitled-1.ipynb#Y125sZmlsZQ%3D%3D?line=6'>7</a>\u001b[0m     \u001b[39mif\u001b[39;00m row\u001b[39m-\u001b[39mdiag \u001b[39m>\u001b[39m\u001b[39m=\u001b[39m \u001b[39m0\u001b[39m \u001b[39mand\u001b[39;00m row\u001b[39m-\u001b[39mdiag \u001b[39m<\u001b[39m \u001b[39mlen\u001b[39m(board) \u001b[39mand\u001b[39;00m board[row][row\u001b[39m-\u001b[39mdiag]:\u001b[39mreturn\u001b[39;00m \u001b[39mFalse\u001b[39;00m\n\u001b[0;32m----> <a href='vscode-notebook-cell:/Users/cm/Desktop/Untitled-1.ipynb#Y125sZmlsZQ%3D%3D?line=7'>8</a>\u001b[0m     \u001b[39mif\u001b[39;00m offdiag\u001b[39m-\u001b[39mrow \u001b[39m>\u001b[39m\u001b[39m=\u001b[39m \u001b[39m0\u001b[39m \u001b[39mand\u001b[39;00m offdiag\u001b[39m-\u001b[39mrow \u001b[39m<\u001b[39m \u001b[39mlen\u001b[39;49m(board) \u001b[39mand\u001b[39;00m board[row][offdiag\u001b[39m-\u001b[39mrow]:\u001b[39mreturn\u001b[39;00m \u001b[39mFalse\u001b[39;00m\n\u001b[1;32m      <a href='vscode-notebook-cell:/Users/cm/Desktop/Untitled-1.ipynb#Y125sZmlsZQ%3D%3D?line=8'>9</a>\u001b[0m \u001b[39mreturn\u001b[39;00m \u001b[39mTrue\u001b[39;00m\n",
      "\u001b[0;31mKeyboardInterrupt\u001b[0m: "
     ]
    }
   ],
   "source": [
    "\n",
    "def check(board, i, j):\n",
    "    if sum(board[i]) or sum([b[j] for b in board]):\n",
    "        return False\n",
    "    diag = i - j\n",
    "    offdiag = i + j\n",
    "    for row in range(len(board)):\n",
    "        if row-diag >= 0 and row-diag < len(board) and board[row][row-diag]:return False\n",
    "        if offdiag-row >= 0 and offdiag-row < len(board) and board[row][offdiag-row]:return False\n",
    "    return True\n",
    "\n",
    "def place_queen(board, row):\n",
    "    if row==len(board): return True\n",
    "    for col in range(len(board)):\n",
    "        if check(board, row, col):\n",
    "            board[row][col] = 1\n",
    "            if place_queen(board, row+1):\n",
    "                return True\n",
    "            board[row][col] = 0\n",
    "    return False\n",
    "\n",
    "\n",
    "# board = [[0, 0, 0], [1, 0, 0], [0, 1, 0]]\n",
    "# check(board, 2, 0)\n",
    "n = 100\n",
    "board = [[0] * n for _ in range(n)]\n",
    "place_queen(board, 0)\n",
    "print(*board, sep=\"\\n\")"
   ]
  },
  {
   "cell_type": "code",
   "execution_count": 159,
   "metadata": {},
   "outputs": [
    {
     "data": {
      "text/plain": [
       "['aac', 'aca', 'aac', 'aca', 'caa', 'caa']"
      ]
     },
     "execution_count": 159,
     "metadata": {},
     "output_type": "execute_result"
    }
   ],
   "source": [
    "# permutations\n",
    "def perm(string, dup_remove=True):\n",
    "    perms = []\n",
    "    def _perm(pre, rem):\n",
    "        if not rem:\n",
    "            perms.append(pre)\n",
    "        for idx in range(len(rem)):\n",
    "            _perm(pre+rem[idx], rem[:idx] + rem[idx+1:])\n",
    "    _perm(\"\", string)\n",
    "    if dup_remove:\n",
    "        perms = list(set(perms))\n",
    "    return perms\n",
    "perm(\"aac\", False)"
   ]
  },
  {
   "cell_type": "code",
   "execution_count": null,
   "metadata": {},
   "outputs": [],
   "source": []
  },
  {
   "cell_type": "code",
   "execution_count": 128,
   "metadata": {},
   "outputs": [
    {
     "data": {
      "text/plain": [
       "['((()))', '(()())', '(())()', '()(())', '()()()']"
      ]
     },
     "execution_count": 128,
     "metadata": {},
     "output_type": "execute_result"
    }
   ],
   "source": [
    "# n = 2\n",
    "# n = 1\n",
    "# char = \"(\"\n",
    "# ---\n",
    "# n = 0\n",
    "# 0 \n",
    "# char = \"()\"\n",
    "def paranths(N):\n",
    "    result = []\n",
    "    def _paranths(n, running_sum=0, char=''):\n",
    "        if running_sum < 0 or running_sum > n:\n",
    "            return \n",
    "        if n == 0:\n",
    "            # if running_sum == 0:\n",
    "            result.append(char)\n",
    "            return \n",
    "        _paranths(n-1, running_sum+1, char+\"(\")\n",
    "        _paranths(n-1, running_sum-1, char+\")\")\n",
    "    _paranths(2*N)\n",
    "    return result\n",
    "paranths(3)      "
   ]
  },
  {
   "cell_type": "code",
   "execution_count": 156,
   "metadata": {},
   "outputs": [
    {
     "name": "stdout",
     "output_type": "stream",
     "text": [
      "bb\n",
      "bcb\n",
      "bb\n",
      "bba\n",
      "bcba\n",
      "bb\n",
      "bba\n",
      "bbab\n",
      "bcbab\n",
      "bcbab\n",
      "bcbabc\n"
     ]
    },
    {
     "data": {
      "text/plain": [
       "('bcbabcd', 7)"
      ]
     },
     "execution_count": 156,
     "metadata": {},
     "output_type": "execute_result"
    }
   ],
   "source": [
    "\n",
    "def LCM(str1, str2):\n",
    "    # total = [\"\"]\n",
    "    # def fill_from(str1, str2):\n",
    "    #     if str1 == \"\": \n",
    "    #         total[0] +=str2\n",
    "    #         return \n",
    "    #     for idx in range(len(str1)):\n",
    "    #         if str1[idx] not in str2:\n",
    "    #             total[0] += str1[idx] \n",
    "    #         else:\n",
    "    #             if str1[idx] == str2[0]:\n",
    "    #                 total[0] += str1[idx]\n",
    "    #                 str2 = str2[1:]\n",
    "    #             break\n",
    "    #     fill_from(str2, str1[idx+1:])\n",
    "    # fill_from(str1, str2)\n",
    "    def _lcm(idx1, idx2):\n",
    "        if idx1 == 0:\n",
    "            return str2[:idx2], idx2\n",
    "        if idx2 == 0:\n",
    "            return str1[:idx1], idx1\n",
    "        if str1[idx1] == str2[idx2]:\n",
    "            superstring, size = _lcm(idx1-1, idx2-1) \n",
    "            print(superstring)\n",
    "            return superstring + str1[idx1], size + 1\n",
    "        else:\n",
    "            superstring1, size1 = _lcm(idx1-1, idx2)\n",
    "            superstring2, size2 = _lcm(idx1, idx2-1)\n",
    "            superstring = superstring1 + str1[idx1] if size1 <= size2 else superstring2 + str2[idx2] \n",
    "            print(superstring)\n",
    "            return superstring, min(size1, size2) + 1 \n",
    "            \n",
    "    return _lcm(len(str1)-1, len(str2)-1)\n",
    "str1 = \"ababcd\"\n",
    "str2 = \"bcccd\"\n",
    "\n",
    "LCM(str1, str2)"
   ]
  },
  {
   "cell_type": "code",
   "execution_count": 213,
   "metadata": {},
   "outputs": [
    {
     "data": {
      "text/plain": [
       "4"
      ]
     },
     "execution_count": 213,
     "metadata": {},
     "output_type": "execute_result"
    }
   ],
   "source": [
    "boxes = [(2, 1), (3, 2), (1, 2)]\n",
    "\n",
    "def check_stack(top, box):\n",
    "    for dim_top, dim_box in zip(top, box):\n",
    "        if dim_box > dim_top:\n",
    "            return False\n",
    "    return True\n",
    "\n",
    "def heighest_stack(boxes):\n",
    "    max_stack = [0]\n",
    "    def place_boxes(top, height, boxes):\n",
    "        for i in range(len(boxes)):\n",
    "            box = boxes[i]\n",
    "            if check_stack(top, box):\n",
    "                height += box[1]\n",
    "                temp = top\n",
    "                top = box\n",
    "                place_boxes(top, height, boxes[:i] + boxes[i+1:])\n",
    "                top = temp\n",
    "                height -= box[1]\n",
    "        max_stack[0] = max(max_stack[0], height)\n",
    "    place_boxes((float(\"inf\"), float(\"inf\")), 0, boxes)\n",
    "    return max_stack[0]\n",
    "\n",
    "heighest_stack(boxes)"
   ]
  },
  {
   "cell_type": "code",
   "execution_count": 253,
   "metadata": {},
   "outputs": [
    {
     "data": {
      "text/plain": [
       "2"
      ]
     },
     "execution_count": 253,
     "metadata": {},
     "output_type": "execute_result"
    }
   ],
   "source": [
    "def coin_combos(coins, SUM):\n",
    "    dp = [0] * (SUM + 1)\n",
    "    dp[0] = 1\n",
    "    for coin in coins:\n",
    "        for target in range(SUM+1 - coin):\n",
    "            dp[target + coin] += dp[target]\n",
    "    return dp[SUM]\n",
    "coin_combos([1, 5, 25], 5)"
   ]
  },
  {
   "cell_type": "code",
   "execution_count": 265,
   "metadata": {},
   "outputs": [
    {
     "data": {
      "text/plain": [
       "2"
      ]
     },
     "execution_count": 265,
     "metadata": {},
     "output_type": "execute_result"
    }
   ],
   "source": [
    "def coin_combos2(coins, SUM):\n",
    "    dp = [0] * (SUM + 1)\n",
    "    dp[0] = 1\n",
    "    for target in range(SUM+1):\n",
    "        for coin in coins:\n",
    "            if target + coin > SUM: continue\n",
    "            dp[target + coin] += dp[target]\n",
    "    return dp[SUM]\n",
    "coin_combos([1, 2, 25], 3)"
   ]
  },
  {
   "cell_type": "code",
   "execution_count": null,
   "metadata": {},
   "outputs": [],
   "source": []
  }
 ],
 "metadata": {
  "kernelspec": {
   "display_name": "Python 3.10.6 ('base')",
   "language": "python",
   "name": "python3"
  },
  "language_info": {
   "codemirror_mode": {
    "name": "ipython",
    "version": 3
   },
   "file_extension": ".py",
   "mimetype": "text/x-python",
   "name": "python",
   "nbconvert_exporter": "python",
   "pygments_lexer": "ipython3",
   "version": "3.10.6"
  },
  "orig_nbformat": 4,
  "vscode": {
   "interpreter": {
    "hash": "dda908cd4440e4a56212b851647e21ff71e3ab87d37174634fe81c6d0ddb9f62"
   }
  }
 },
 "nbformat": 4,
 "nbformat_minor": 2
}
